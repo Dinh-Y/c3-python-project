{
 "cells": [
  {
   "cell_type": "code",
   "execution_count": 1,
   "id": "034e4085-0783-4080-92e4-3a6bf509b8e8",
   "metadata": {},
   "outputs": [
    {
     "name": "stdout",
     "output_type": "stream",
     "text": [
      "Hướng dẫn:\n",
      "Phím 'n' : ảnh gốc (normal)\n",
      "Phím 'g' : ảnh xám (gray)\n",
      "Phím 'b' : làm mờ (blur)\n",
      "Phím 'c' : cartoon (hoạt hình)\n",
      "Phím 'q' : thoát\n"
     ]
    },
    {
     "data": {
      "text/plain": [
       "<function VideoCapture.release>"
      ]
     },
     "execution_count": 1,
     "metadata": {},
     "output_type": "execute_result"
    }
   ],
   "source": [
    "import cv2 # xử lý ảnh và video\n",
    "\n",
    "def cartoonize_image(img): # trả về ảnh hoạt hình\n",
    "    # Làm mịn màu bằng Bilateral Filter\n",
    "    color = cv2.bilateralFilter(img, d=9, sigmaColor=75, sigmaSpace=75)\n",
    "\n",
    "    # Chuyển ảnh sang xám và làm mượt bằng Median Blur\n",
    "    gray = cv2.cvtColor(img, cv2.COLOR_BGR2GRAY)\n",
    "    gray = cv2.medianBlur(gray, 7)\n",
    "\n",
    "    # Phát hiện biên bằng Adaptive Threshold\n",
    "    edges = cv2.adaptiveThreshold(\n",
    "        gray, 255,\n",
    "        cv2.ADAPTIVE_THRESH_MEAN_C, # tính trung bình theo vùng cục bộ\n",
    "        cv2.THRESH_BINARY, # kiểu nhị phân đen trắng\n",
    "        blockSize=9,\n",
    "        C=2 # hằng số bù\n",
    "        #Phát hiện biên linh hoạt theo từng vùng sáng – tối → giúp tách được nét trong ảnh phức tạp.\n",
    "    )\n",
    "\n",
    "    # Ghép ảnh màu với mặt nạ biên\n",
    "    cartoon = cv2.bitwise_and(color, color, mask=edges)\n",
    "    return cartoon # trả ảnh đã qua xử lý\n",
    "\n",
    "# Mở webcam\n",
    "cap = cv2.VideoCapture(0)\n",
    "\n",
    "mode = \"normal\"  # chế độ hiển thị mặc định\n",
    "\n",
    "print(\"Hướng dẫn:\")\n",
    "print(\"Phím 'n' : ảnh gốc (normal)\")\n",
    "print(\"Phím 'g' : ảnh xám (gray)\")\n",
    "print(\"Phím 'b' : làm mờ (blur)\")\n",
    "print(\"Phím 'c' : cartoon (hoạt hình)\")\n",
    "print(\"Phím 'q' : thoát\")\n",
    "\n",
    "while True:\n",
    "    ret, frame = cap.read()\n",
    "    if not ret:\n",
    "        break\n",
    "\n",
    "    # Gắn các nút để xử lý theo chế độ\n",
    "    if mode == \"gray\":\n",
    "        output = cv2.cvtColor(frame, cv2.COLOR_BGR2GRAY)\n",
    "    elif mode == \"blur\":\n",
    "        output = cv2.GaussianBlur(frame, (15, 15), 0)\n",
    "    elif mode == \"cartoon\":\n",
    "        output = cartoonize_image(frame)\n",
    "    else:\n",
    "        output = frame\n",
    "\n",
    "    cv2.imshow(\"Live Video\", output)\n",
    "\n",
    "    key = cv2.waitKey(1) & 0xFF\n",
    "    if key == ord('q'):   # thoát\n",
    "        break\n",
    "    elif key == ord('n'):\n",
    "        mode = \"normal\"\n",
    "    elif key == ord('g'):\n",
    "        mode = \"gray\"\n",
    "    elif key == ord('b'):\n",
    "        mode = \"blur\"\n",
    "    elif key == ord('c'):\n",
    "        mode = \"cartoon\"\n",
    "\n",
    "cap.release ()\n"
   ]
  },
  {
   "cell_type": "code",
   "execution_count": 2,
   "id": "79e61590-56d4-48a8-bf25-4c216bd42c9b",
   "metadata": {},
   "outputs": [
    {
     "ename": "NameError",
     "evalue": "name 'n' is not defined",
     "output_type": "error",
     "traceback": [
      "\u001b[31m---------------------------------------------------------------------------\u001b[39m",
      "\u001b[31mNameError\u001b[39m                                 Traceback (most recent call last)",
      "\u001b[36mCell\u001b[39m\u001b[36m \u001b[39m\u001b[32mIn[2]\u001b[39m\u001b[32m, line 1\u001b[39m\n\u001b[32m----> \u001b[39m\u001b[32m1\u001b[39m \u001b[43mn\u001b[49m\n",
      "\u001b[31mNameError\u001b[39m: name 'n' is not defined"
     ]
    }
   ],
   "source": [
    "n\n"
   ]
  },
  {
   "cell_type": "code",
   "execution_count": null,
   "id": "6a4c3920-b6c5-4de2-957b-176a8e2b8281",
   "metadata": {},
   "outputs": [],
   "source": [
    "q"
   ]
  },
  {
   "cell_type": "code",
   "execution_count": null,
   "id": "430dcdcb-f949-4a10-aa3e-5ded86748efd",
   "metadata": {},
   "outputs": [],
   "source": [
    "n\n"
   ]
  }
 ],
 "metadata": {
  "kernelspec": {
   "display_name": "Python 3 (ipykernel)",
   "language": "python",
   "name": "python3"
  },
  "language_info": {
   "codemirror_mode": {
    "name": "ipython",
    "version": 3
   },
   "file_extension": ".py",
   "mimetype": "text/x-python",
   "name": "python",
   "nbconvert_exporter": "python",
   "pygments_lexer": "ipython3",
   "version": "3.13.7"
  }
 },
 "nbformat": 4,
 "nbformat_minor": 5
}
